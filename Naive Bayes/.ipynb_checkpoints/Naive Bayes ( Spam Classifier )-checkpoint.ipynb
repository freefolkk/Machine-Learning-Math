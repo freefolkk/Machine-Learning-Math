{
 "cells": [
  {
   "cell_type": "markdown",
   "metadata": {},
   "source": [
    "<img src=\"bayes.jpeg\">\n",
    "\n",
    "## Naive Bayes Classification Algorithm :\n",
    "-  Naive Bayes is a probabilistic classification algorithm which is primarily used for Text Classification. \n",
    "To Know More: [Naive Bayes](https://www.youtube.com/watch?v=sjUDlJfdnKM). \n",
    "- We are going to implement Naive Bayes from scratch to build a Spam Classifier. We will use the data set from Kaggle to train the classifier. [Kaggle Spam Dataset](https://www.kaggle.com/uciml/sms-spam-collection-dataset)\n",
    "-  Naive Bayes outperform many classification algorithms in case of small data sets."
   ]
  },
  {
   "cell_type": "markdown",
   "metadata": {},
   "source": [
    "#### Importing useful modules"
   ]
  },
  {
   "cell_type": "code",
   "execution_count": 255,
   "metadata": {},
   "outputs": [],
   "source": [
    "import numpy as np\n",
    "import pandas as pd"
   ]
  },
  {
   "cell_type": "markdown",
   "metadata": {},
   "source": [
    "#### Visualization of Dataset"
   ]
  },
  {
   "cell_type": "code",
   "execution_count": 273,
   "metadata": {},
   "outputs": [],
   "source": [
    "data = pd.read_csv(\"spam.csv\")\n",
    "data.columns = ['clas','mail']"
   ]
  },
  {
   "cell_type": "code",
   "execution_count": 274,
   "metadata": {},
   "outputs": [
    {
     "data": {
      "text/html": [
       "<div>\n",
       "<style scoped>\n",
       "    .dataframe tbody tr th:only-of-type {\n",
       "        vertical-align: middle;\n",
       "    }\n",
       "\n",
       "    .dataframe tbody tr th {\n",
       "        vertical-align: top;\n",
       "    }\n",
       "\n",
       "    .dataframe thead th {\n",
       "        text-align: right;\n",
       "    }\n",
       "</style>\n",
       "<table border=\"1\" class=\"dataframe\">\n",
       "  <thead>\n",
       "    <tr style=\"text-align: right;\">\n",
       "      <th></th>\n",
       "      <th>clas</th>\n",
       "      <th>mail</th>\n",
       "    </tr>\n",
       "  </thead>\n",
       "  <tbody>\n",
       "    <tr>\n",
       "      <th>0</th>\n",
       "      <td>ham</td>\n",
       "      <td>Go until jurong point, crazy.. Available only ...</td>\n",
       "    </tr>\n",
       "    <tr>\n",
       "      <th>1</th>\n",
       "      <td>ham</td>\n",
       "      <td>Ok lar... Joking wif u oni...</td>\n",
       "    </tr>\n",
       "    <tr>\n",
       "      <th>2</th>\n",
       "      <td>spam</td>\n",
       "      <td>Free entry in 2 a wkly comp to win FA Cup fina...</td>\n",
       "    </tr>\n",
       "    <tr>\n",
       "      <th>3</th>\n",
       "      <td>ham</td>\n",
       "      <td>U dun say so early hor... U c already then say...</td>\n",
       "    </tr>\n",
       "    <tr>\n",
       "      <th>4</th>\n",
       "      <td>ham</td>\n",
       "      <td>Nah I don't think he goes to usf, he lives aro...</td>\n",
       "    </tr>\n",
       "  </tbody>\n",
       "</table>\n",
       "</div>"
      ],
      "text/plain": [
       "   clas                                               mail\n",
       "0   ham  Go until jurong point, crazy.. Available only ...\n",
       "1   ham                      Ok lar... Joking wif u oni...\n",
       "2  spam  Free entry in 2 a wkly comp to win FA Cup fina...\n",
       "3   ham  U dun say so early hor... U c already then say...\n",
       "4   ham  Nah I don't think he goes to usf, he lives aro..."
      ]
     },
     "execution_count": 274,
     "metadata": {},
     "output_type": "execute_result"
    }
   ],
   "source": [
    "data.head()"
   ]
  },
  {
   "cell_type": "markdown",
   "metadata": {},
   "source": [
    "-  [clas] contains classes as \"ham\" or \"spam\" ,\n",
    "-  [mail] contains actual text which is in the mail."
   ]
  },
  {
   "cell_type": "code",
   "execution_count": 285,
   "metadata": {},
   "outputs": [],
   "source": [
    "#total number of emails\n",
    "total_mails = len(data)"
   ]
  },
  {
   "cell_type": "code",
   "execution_count": 286,
   "metadata": {},
   "outputs": [
    {
     "data": {
      "text/plain": [
       "5568"
      ]
     },
     "execution_count": 286,
     "metadata": {},
     "output_type": "execute_result"
    }
   ],
   "source": [
    "total_mails"
   ]
  },
  {
   "cell_type": "code",
   "execution_count": 287,
   "metadata": {},
   "outputs": [
    {
     "data": {
      "text/plain": [
       "ham     4823\n",
       "spam     745\n",
       "Name: clas, dtype: int64"
      ]
     },
     "execution_count": 287,
     "metadata": {},
     "output_type": "execute_result"
    }
   ],
   "source": [
    "#distribution of emails\n",
    "data.clas.value_counts()"
   ]
  },
  {
   "cell_type": "code",
   "execution_count": 288,
   "metadata": {},
   "outputs": [],
   "source": [
    "spams_prob = data.clas.value_counts(normalize = True)['spam']\n",
    "non_spams_prob = data.clas.value_counts(normalize = True)['ham']"
   ]
  },
  {
   "cell_type": "code",
   "execution_count": 289,
   "metadata": {},
   "outputs": [
    {
     "data": {
      "text/plain": [
       "0.13380028735632185"
      ]
     },
     "execution_count": 289,
     "metadata": {},
     "output_type": "execute_result"
    }
   ],
   "source": [
    "#spams probability [P(A)]\n",
    "spams_prob"
   ]
  },
  {
   "cell_type": "code",
   "execution_count": 290,
   "metadata": {},
   "outputs": [
    {
     "data": {
      "text/plain": [
       "0.8661997126436781"
      ]
     },
     "execution_count": 290,
     "metadata": {},
     "output_type": "execute_result"
    }
   ],
   "source": [
    "#non_spam probability [P(~A)]\n",
    "non_spams_prob"
   ]
  },
  {
   "cell_type": "markdown",
   "metadata": {},
   "source": [
    "### Dataset splitting into Test & Train"
   ]
  },
  {
   "cell_type": "code",
   "execution_count": 291,
   "metadata": {},
   "outputs": [],
   "source": [
    "#dataset splitting functionality of scikit-learn\n",
    "from sklearn.model_selection import train_test_split\n",
    "\n",
    "#x & y have datatype as python series\n",
    "x = data['mail']\n",
    "y = data['clas']\n",
    "\n",
    "x_train,x_test,y_train,y_test = train_test_split(x, y, test_size = 0.25)"
   ]
  },
  {
   "cell_type": "markdown",
   "metadata": {},
   "source": [
    "### Naive Bayes"
   ]
  },
  {
   "cell_type": "code",
   "execution_count": 292,
   "metadata": {},
   "outputs": [],
   "source": [
    "#training the model... calculating all needed probabilities which we can use later on to test the data i.e P(B|A) and P(B|~A)\n",
    "#To be ra only once on training data\n",
    "\n",
    "#word bag contains the frequency of each words in spam and non_spam\n",
    "wordBag = { 'positive' : {} , 'negative' : {} }\n",
    "\n",
    "#prob_bag contains prob: P(mail|spam) and P(mail|not_spam)\n",
    "probBag = { 'positive' : {} , 'negative' : {} }\n",
    "\n",
    "def train_model(neg_total,pos_total):\n",
    "   \n",
    "    #iterating through training data\n",
    "    for (email,label) in zip(x_train,y_train):\n",
    "        #iterating each word for email, calculating occurances and then probability\n",
    "        for word in email.split():\n",
    "            if label == 'spam':\n",
    "                if word in wordBag['negative']:\n",
    "                    wordBag['negative'][word] += 1\n",
    "                else :\n",
    "                    wordBag['negative'][word] = 1     \n",
    "                neg_total +=1\n",
    "            else :\n",
    "                if word in wordBag['positive']:\n",
    "                    wordBag['positive'][word] += 1\n",
    "                else :\n",
    "                    wordBag['positive'][word] = 1\n",
    "                pos_total +=1\n",
    "                \n",
    "    return (pos_total,neg_total)\n",
    "    "
   ]
  },
  {
   "cell_type": "code",
   "execution_count": 293,
   "metadata": {},
   "outputs": [],
   "source": [
    "def populate_probabilities(): \n",
    "    for key, value in wordBag['negative'].items(): \n",
    "        probBag['negative'][key] = wordBag['negative'][key]/float(neg_total)\n",
    "    for key, value in wordBag['positive'].items(): \n",
    "        probBag['positive'][key] = wordBag['positive'][key]/float(pos_total)    "
   ]
  },
  {
   "cell_type": "code",
   "execution_count": 294,
   "metadata": {},
   "outputs": [],
   "source": [
    "#calling train function\n",
    "pos_total,neg_total = train_model(0,0)\n",
    "#calculating probabilities\n",
    "populate_probabilities()"
   ]
  },
  {
   "cell_type": "code",
   "execution_count": 317,
   "metadata": {},
   "outputs": [],
   "source": [
    "def classify(feature, spam_prob, non_spam_prob):\n",
    "    for word in feature.split():\n",
    "        if word in probBag['negative']:\n",
    "            spam_prob = spam_prob * probBag['negative'][word]\n",
    "        if word in probBag['positive']:\n",
    "            non_spam_prob = non_spam_prob * probBag['positive'][word]\n",
    "            \n",
    "    return spam_prob > non_spam_prob"
   ]
  }
 ],
 "metadata": {
  "kernelspec": {
   "display_name": "Python 3",
   "language": "python",
   "name": "python3"
  },
  "language_info": {
   "codemirror_mode": {
    "name": "ipython",
    "version": 3
   },
   "file_extension": ".py",
   "mimetype": "text/x-python",
   "name": "python",
   "nbconvert_exporter": "python",
   "pygments_lexer": "ipython3",
   "version": "3.6.4"
  }
 },
 "nbformat": 4,
 "nbformat_minor": 2
}
